{
 "cells": [
  {
   "cell_type": "markdown",
   "metadata": {},
   "source": [
    "<div style=\"text-align: center;\">\n",
    "    <h2> <b>METODE NAIVE BAYES UNTUK PREDIKSI KELULUSAN (STUDI KASUS: DATA MAHASISWA BARU PERGURUAN TINGGI)</b></div>\n",
    "</div>\n"
   ]
  },
  {
   "cell_type": "markdown",
   "metadata": {},
   "source": [
    "<div>\n",
    "    <h3> <b>Anggota Kelompok</b></div>\n",
    "    <ol>\n",
    "        <li><h4>Lalu Dwiky Indrajid Febriansyah (F1D018079)</h4></li>\n",
    "        <li><h4>Dedy Razuna Aprimansyah (F1D019017)</h4></li>\n",
    "        <li><h4>M Alfin Rido (F1D022068)</h4></li>\n",
    "        <li><h4>Rizki Rahman Maulana (F1D022093)</h4></li>\n",
    "        <li><h4>Rafli fachrin kardiansyah (F1D022154)</h4></li>\n",
    "    </ol>\n",
    "</div>"
   ]
  },
  {
   "cell_type": "markdown",
   "metadata": {},
   "source": [
    "## **Pendahuluan**"
   ]
  },
  {
   "cell_type": "markdown",
   "metadata": {},
   "source": [
    "### **Latar Belakang Topik**"
   ]
  },
  {
   "cell_type": "markdown",
   "metadata": {},
   "source": [
    "Pembahasan topik ini akan menggunakan metode naïve bayes untuk melakukan prediksi peluang kelulusan mahasiswa baru. Kelulusan yang dimaksud adalah diterimanya seorang mahasiswa pada salah satu program studi di Perguruan Tinggi. Studi kasus dilakukan pada data mahasiswa Universitas Al Asyariah Mandar sulawesi Barat. Untuk dataset yang digunakan dalam pembahasan ini yaitu, data Penerimaan Mahasiswa Baru yang memiliki 7 atribut dan 26 record yang terdiri dari jurusan sekolah, pilihan pertama, pilihan kedua, nilai rata-rata, keterangan lulus, pilihan lulus dan jurusan lulus."
   ]
  },
  {
   "cell_type": "markdown",
   "metadata": {},
   "source": [
    "### **Latar Belakang Metode**"
   ]
  },
  {
   "cell_type": "markdown",
   "metadata": {},
   "source": [
    "Metode Bayes adalah metode statistik yang digunakan untuk menghitung probabilitas suatu kejadian atau hipotesis dengan menggunakan informasi awal atau prior knowledge\n",
    "yang dimiliki. Metode ini dinamakan berdasarkan nama matematikawan Inggris, Thomas Bayes, yang memperkenalkannya pada abad ke-18.\n",
    "<br>\n",
    "Pada dasarnya, metode Bayes menggabungkan data baru yang diperoleh dengan prior knowledge yang sudah ada untuk menghasilkan probabilitas yang lebih akurat. Dalam metode Bayes,\n",
    "probabilitas suatu kejadian atau hipotesis ditentukan oleh kemungkinan kejadian tersebut, dan kemudian diperbarui berdasarkan data baru yang diperoleh.\n"
   ]
  },
  {
   "cell_type": "markdown",
   "metadata": {},
   "source": [
    "## **Pembahasan**"
   ]
  },
  {
   "cell_type": "markdown",
   "metadata": {},
   "source": [
    "### **Menyediakan Library Yang Akan Digunakan**"
   ]
  },
  {
   "cell_type": "markdown",
   "metadata": {},
   "source": [
    "`import pandas as pd` : Ini mengimpor pustaka pandas dan menginisialisasi nama singkatnya menjadi pd. Pandas adalah pustaka yang digunakan untuk manipulasi dan analisis data tabular.\n",
    "\n",
    "`pd.options.mode.chained_assignment` = None: Ini mengatur opsi mode chained_assignment di pandas menjadi None. Opsi ini mempengaruhi perilaku saat melakukan operasi penugasan berantai (chained assignment) pada DataFrames. Dalam hal ini, pengaturan ini menghilangkan peringatan yang mungkin muncul saat menggunakan operasi penugasan berantai pada DataFrames.\n",
    "\n",
    "`import matplotlib.pyplot as plt` : Ini mengimpor pustaka matplotlib dan menginisialisasi nama singkatnya menjadi plt. Matplotlib adalah pustaka visualisasi data yang digunakan untuk membuat grafik dan plot.\n",
    "\n",
    "`from scipy.stats import norm` : Ini mengimpor fungsi norm dari pustaka scipy.stats. Fungsi norm digunakan untuk menghasilkan distribusi normal."
   ]
  },
  {
   "cell_type": "code",
   "execution_count": 16,
   "metadata": {},
   "outputs": [],
   "source": [
    "import pandas as pd\n",
    "pd.options.mode.chained_assignment = None\n",
    "import matplotlib.pyplot as plt\n",
    "from scipy.stats import norm"
   ]
  },
  {
   "cell_type": "markdown",
   "metadata": {},
   "source": [
    "### **Mengimport Dataset dan Menampilkannya**"
   ]
  },
  {
   "cell_type": "markdown",
   "metadata": {},
   "source": [
    "`data = pd.read_excel('data.xlsx')`: Kodingan ini membaca file Excel dengan nama \"data.xlsx\" menggunakan pustaka pandas dan menyimpannya ke dalam variabel data. Data tersebut dianggap sebagai data tabular, dengan baris dan kolom."
   ]
  },
  {
   "cell_type": "code",
   "execution_count": 17,
   "metadata": {},
   "outputs": [
    {
     "name": "stdout",
     "output_type": "stream",
     "text": [
      "   JURUSAN SEKOLAH       PILIHAN PERTAMA         PILIHAN KEDUA  NILAI RATA  \\\n",
      "0              IPA      Sistem Informasi     Ilmu Pemerintahan       51.94   \n",
      "1              IPA      Sistem Informasi       Ilmu Komunikasi       50.07   \n",
      "2              TKJ      Sistem Informasi    Teknik Informatika       52.50   \n",
      "3              IPA      Bahasa Indonesia    Teknik Informatika       51.94   \n",
      "4              IPA    Teknik Informatika            Peternakan       46.11   \n",
      "5              IPA    Teknik Informatika            Peternakan       45.00   \n",
      "6              IPS     Ilmu Pemerintahan      Sistem Informasi       42.78   \n",
      "7        KESEHATAN                  PPKn  Kesehatan Masyarakat       50.28   \n",
      "8        KESEHATAN                  PPKn    Teknik Informatika       53.06   \n",
      "9        KESEHATAN                  PPKn    Teknik Informatika       51.06   \n",
      "10       KESEHATAN  Kesehatan Masyarakat            Peternakan       47.22   \n",
      "11       KESEHATAN      Bahasa Indonesia         Ekonomi Islam       48.06   \n",
      "12       KESEHATAN    Teknik Informatika     Ilmu Pemerintahan       51.94   \n",
      "13          BAHASA     Ilmu Pemerintahan            Matematika       44.72   \n",
      "14             IPA      Bahasa Indonesia      Sistem Informasi       50.88   \n",
      "15             IPS                  PPKn     Ilmu Pemerintahan       43.61   \n",
      "16             IPA            Agribisnis         Ekonomi Islam       51.33   \n",
      "17             IPA            Matematika      Sistem Informasi       50.11   \n",
      "18       KESEHATAN  Kesehatan Masyarakat      Sistem Informasi       52.22   \n",
      "19             IPS      Sistem Informasi     Ilmu Pemerintahan       50.28   \n",
      "20             IPS    Teknik Informatika       Ilmu Komunikasi       51.00   \n",
      "21             IPA                  PPKn  Kesehatan Masyarakat       51.39   \n",
      "22             IPA                  PPKn  Kesehatan Masyarakat       53.33   \n",
      "23             TKJ      Sistem Informasi  Kesehatan Masyarakat       50.83   \n",
      "24             IPS      Sistem Informasi            Matematika       50.34   \n",
      "\n",
      "   KETERANGAN LULUS PILIHAN LULUS         JURUSAN LULUS  \n",
      "0             LULUS          PIL1      Sistem Informasi  \n",
      "1             LULUS          PIL1      Sistem Informasi  \n",
      "2             LULUS          PIL1      Sistem Informasi  \n",
      "3             LULUS          PIL1      Bahasa Indonesia  \n",
      "4             LULUS          PIL2            Peternakan  \n",
      "5             LULUS          PIL2            Peternakan  \n",
      "6             LULUS          PIL1     Ilmu Pemerintahan  \n",
      "7             LULUS          PIL1                  PPKn  \n",
      "8             LULUS          PIL1                  PPKn  \n",
      "9             LULUS          PIL1                  PPKn  \n",
      "10            LULUS          PIL1  Kesehatan Masyarakat  \n",
      "11            LULUS          PIL2         Ekonomi Islam  \n",
      "12            LULUS          PIL1    Teknik Informatika  \n",
      "13            LULUS          PIL1     Ilmu Pemerintahan  \n",
      "14            LULUS          PIL1      Bahasa Indonesia  \n",
      "15            LULUS          PIL2     Ilmu Pemerintahan  \n",
      "16            LULUS          PIL1            Agribisnis  \n",
      "17            LULUS          PIL1            Matematika  \n",
      "18            LULUS          PIL1  Kesehatan Masyarakat  \n",
      "19            LULUS          PIL1      Sistem Informasi  \n",
      "20            LULUS          PIL1    Teknik Informatika  \n",
      "21            LULUS          PIL1                  PPKn  \n",
      "22            LULUS          PIL1                  PPKn  \n",
      "23            LULUS          PIL2  Kesehatan Masyarakat  \n",
      "24            LULUS          PIL1      Sistem Informasi  \n"
     ]
    }
   ],
   "source": [
    "data = pd.read_excel('Dataset.xlsx')\n",
    "print(data)"
   ]
  },
  {
   "cell_type": "markdown",
   "metadata": {},
   "source": [
    "### **Mendapatkan Sampel Dengan Menggunakan Perhitungan Bayes**"
   ]
  },
  {
   "cell_type": "markdown",
   "metadata": {},
   "source": [
    "Sebagai Contoh disini menggunakan salah satu data siswa dari data di atas, kita perlu menyiapkan varibel dataframe baru untuk menyimpan data tersebut dan 2 variabel dataframe baru untuk menyimpan hasil perhitungan probabilitas diterima pada pilihan pertama atau diterima pada pilihan kedua jika menggunakan data siswa tersebut\n",
    "```\n",
    "siswa=pd.DataFrame({\n",
    "    \"JURUSAN SEKOLAH\":['IPA'],\n",
    "    \"PILIHAN PERTAMA\":[\"Sistem Informasi\"],\n",
    "    \"PILIHAN KEDUA\":[\"Ilmu Pemerintahan\"],\n",
    "    \"NILAI RATA\":[51.94],\n",
    "    \"PILIHAN LULUS\":[\"PIL1\"]\n",
    "})\n",
    "``` \n",
    "Pada blok ini, kita membuat sebuah Dataframe dengan nama \"siswa\". Dataframe ini memiliki lima kolom: \"JURUSAN SEKOLAH\", \"PILIHAN PERTAMA\", \"PILIHAN KEDUA\", \"NILAI RATA\", dan \"PILIHAN LULUS\". Setiap kolom diinisialisasi dengan data yang diberikan di dalam tanda kurung kurawal.\n",
    "```\n",
    "S_pilihan1 = pd.DataFrame({\n",
    "    \"JURUSAN SEKOLAH\":[0],\n",
    "    \"PILIHAN PERTAMA\":[0],\n",
    "    \"PILIHAN KEDUA\":[0],\n",
    "    \"NILAI RATA\":[0],\n",
    "    \"PILIHAN LULUS\":[0]\n",
    "})\n",
    "```\n",
    "Pada blok ini, kita membuat Dataframe baru dengan nama \"S_pilihan1\". Dataframe ini juga memiliki lima kolom yang sama seperti Dataframe \"siswa\". Setiap kolom diinisialisasi dengan nilai 0.\n",
    "```\n",
    "S_pilihan2 = pd.DataFrame({\n",
    "    \"JURUSAN SEKOLAH\":[0],\n",
    "    \"PILIHAN PERTAMA\":[0],\n",
    "    \"PILIHAN KEDUA\":[0],\n",
    "    \"NILAI RATA\":[0],\n",
    "    \"PILIHAN LULUS\":[0]\n",
    "})\n",
    "```\n",
    "Pada blok ini, kita membuat Dataframe baru dengan nama \"S_pilihan2\". Dataframe ini juga memiliki lima kolom yang sama seperti Dataframe \"siswa\" dan \"S_pilihan2\". Setiap kolom diinisialisasi dengan nilai 0."
   ]
  },
  {
   "cell_type": "code",
   "execution_count": 18,
   "metadata": {},
   "outputs": [
    {
     "name": "stdout",
     "output_type": "stream",
     "text": [
      "Contoh Data Siswa\n",
      "  JURUSAN SEKOLAH   PILIHAN PERTAMA      PILIHAN KEDUA  NILAI RATA  \\\n",
      "0             IPA  Sistem Informasi  Ilmu Pemerintahan       51.94   \n",
      "\n",
      "  PILIHAN LULUS  \n",
      "0          PIL1  \n"
     ]
    }
   ],
   "source": [
    "siswa = pd.DataFrame({\n",
    "    \"JURUSAN SEKOLAH\": [\"IPA\"],\n",
    "    \"PILIHAN PERTAMA\": [\"Sistem Informasi\"],\n",
    "    \"PILIHAN KEDUA\": [\"Ilmu Pemerintahan\"],\n",
    "    \"NILAI RATA\": [51.94],\n",
    "    \"PILIHAN LULUS\": [\"PIL1\"]\n",
    "})\n",
    "\n",
    "print(\"Contoh Data Siswa\")\n",
    "print(siswa)\n",
    "\n",
    "S_pilihan1 = pd.DataFrame({\n",
    "    \"JURUSAN SEKOLAH\": [0.0],\n",
    "    \"PILIHAN PERTAMA\": [0.0],\n",
    "    \"PILIHAN KEDUA\": [0.0],\n",
    "    \"NILAI RATA\": [0.0],\n",
    "    \"PILIHAN LULUS\": [0.0]\n",
    "})\n",
    "\n",
    "S_pilihan2 = pd.DataFrame({\n",
    "    \"JURUSAN SEKOLAH\": [0.0],\n",
    "    \"PILIHAN PERTAMA\": [0.0],\n",
    "    \"PILIHAN KEDUA\": [0.0],\n",
    "    \"NILAI RATA\": [0.0],\n",
    "    \"PILIHAN LULUS\": [0.0]\n",
    "})"
   ]
  },
  {
   "cell_type": "markdown",
   "metadata": {},
   "source": [
    "### **Mendapatkan Jumlah Total Siswa Yang Diterima di Pilihan 1 dan Diterima di Pilihan 2**"
   ]
  },
  {
   "cell_type": "markdown",
   "metadata": {},
   "source": [
    "Menghitung total siswa yang diterima di pilihan 1 dan diterima di pilihan 2 berdasarkan data yang telah diimport sebelumnya dengan mengakses kolom hasil dari dataframe yang mana jika pada kolom tersebut tertulis 'PIL1' maka variabel countPilihan11 akan diincrement 1 jika tidak maka variabel countPilihan2 yang akan diincrement 1"
   ]
  },
  {
   "cell_type": "code",
   "execution_count": 19,
   "metadata": {},
   "outputs": [
    {
     "name": "stdout",
     "output_type": "stream",
     "text": [
      "20 5\n"
     ]
    }
   ],
   "source": [
    "# Count choices\n",
    "countPilihan1 = 0\n",
    "countPilihan2 = 0\n",
    "for indeks, value in data[\"PILIHAN LULUS\"].items():\n",
    "    if value == \"PIL1\":\n",
    "        countPilihan1 += 1\n",
    "    elif value == \"PIL2\":\n",
    "        countPilihan2 += 1\n",
    "\n",
    "print(countPilihan1, countPilihan2)"
   ]
  },
  {
   "cell_type": "markdown",
   "metadata": {},
   "source": [
    "### **Membuat Function Untuk Mendapatkan Probabilitas Kejadian Pada Setiap Kolom Data**"
   ]
  },
  {
   "cell_type": "markdown",
   "metadata": {},
   "source": [
    "Kode berikut adalah sebuah fungsi bernama probb yang digunakan untuk menghitung probabilitas berdasarkan kondisi yang diberikan.\n",
    "\n",
    "`def probb(siswa, Kolom, Kondisi,i):` : Ini adalah deklarasi fungsi dengan nama probb. Fungsi ini menerima empat parameter: siswa (Dataframe yang berisi data siswa), Kolom (nama kolom yang akan digunakan untuk mencocokkan kondisi), Kondisi (kondisi yang akan digunakan untuk mencocokkan nilai dalam kolom), dan i (indeks dari baris data siswa yang sedang diproses).\n",
    "\n",
    "`result = 0` : Variabel result diinisialisasi dengan nilai 0. Variabel ini akan digunakan untuk menyimpan hasil probabilitas.\n",
    "\n",
    "`total = 0` : Variabel total diinisialisasi dengan nilai 0. Variabel ini akan digunakan untuk menghitung total jumlah data yang memenuhi kondisi tertentu.\n",
    "\n",
    "`count = 0` : Variabel count diinisialisasi dengan nilai 0. Variabel ini akan digunakan untuk menghitung total jumlah data yang memenuhi kondisi pada kolom \"PILIHAN LULUS\".\n",
    "\n",
    "`for indeks, value in data[Kolom].items()` : : Ini adalah loop for yang digunakan untuk mengiterasi setiap item dalam kolom yang diberikan (Kolom) dari Dataframe \"data\". indeks akan berisi indeks dari setiap item, sedangkan value akan berisi nilai dari setiap item.\n",
    "\n",
    "`if value == siswa[Kolom][i] and data[\"PILIHAN LULUS\"][indeks] == Kondisi:` : Ini adalah kondisi if yang akan dievaluasi untuk setiap nilai dalam kolom yang diberikan (Kolom). Jika nilai tersebut sama dengan nilai dari kolom yang sesuai dalam data siswa (siswa[Kolom][i]) dan nilai dalam kolom \"PILIHAN LULUS\" juga sama dengan kondisi yang diberikan (Kondisi), maka blok kode di dalamnya akan dieksekusi.\n",
    "\n",
    "`total += 1` : Jika kondisi di atas terpenuhi, variabel total akan bertambah 1. Ini akan menghitung jumlah data yang memenuhi kondisi tertentu.\n",
    "\n",
    "`if siswa[\"PILIHAN LULUS\"][indeks] == Kondisi:` : Ini adalah kondisi if yang akan dievaluasi untuk setiap nilai dalam kolom \"PILIHAN LULUS\" pada data siswa (siswa[\"PILIHAN LULUS\"][indeks]). Jika nilai tersebut sama dengan kondisi yang diberikan (Kondisi), maka blok kode di dalamnya akan dieksekusi.\n",
    "\n",
    "`count += 1` : Jika kondisi di atas terpenuhi, variabel count akan bertambah 1. Ini akan menghitung jumlah data yang memenuhi kondisi pada kolom \"PILIHAN LULUS\".\n",
    "\n",
    "`if count > 0:` : Ini adalah kondisi if yang akan dievaluasi jika count lebih besar dari 0.\n",
    "\n",
    "`result` = total / count : Jika kondisi di atas terpenuhi, variabel result akan diisi dengan hasil pembagian total dengan count. Ini akan meng"
   ]
  },
  {
   "cell_type": "code",
   "execution_count": 20,
   "metadata": {},
   "outputs": [
    {
     "name": "stdout",
     "output_type": "stream",
     "text": [
      "0.4\n",
      "0.4\n"
     ]
    }
   ],
   "source": [
    "# Define probability functions\n",
    "def prob(Kolom, Kondisi):\n",
    "    result = 0\n",
    "    total = 0\n",
    "    count = 0\n",
    "    for indeks, value in data[Kolom].items():\n",
    "        if value == siswa[Kolom][0] and data[\"PILIHAN LULUS\"][indeks] == Kondisi:\n",
    "            total += 1\n",
    "        if data[\"PILIHAN LULUS\"][indeks] == Kondisi:\n",
    "            count += 1\n",
    "    if count > 0:\n",
    "        result = total / count\n",
    "    return result \n",
    "\n",
    "def probb(siswa, Kolom, Kondisi, i):\n",
    "    result = 0\n",
    "    total = 0\n",
    "    count = 0\n",
    "    for indeks, value in data[Kolom].items():\n",
    "        if value == siswa[Kolom][i] and data[\"PILIHAN LULUS\"][indeks] == Kondisi:\n",
    "            total += 1\n",
    "        if data[\"PILIHAN LULUS\"][indeks] == Kondisi:\n",
    "            count += 1\n",
    "    if count > 0:\n",
    "        result = total / count\n",
    "    return result\n",
    "\n",
    "# Test probability functions\n",
    "print(prob(\"JURUSAN SEKOLAH\", \"PIL1\"))\n",
    "print(probb(siswa, \"JURUSAN SEKOLAH\", \"PIL1\", 0))"
   ]
  },
  {
   "cell_type": "code",
   "execution_count": 21,
   "metadata": {},
   "outputs": [
    {
     "name": "stdout",
     "output_type": "stream",
     "text": [
      "   JURUSAN SEKOLAH  PILIHAN PERTAMA  PILIHAN KEDUA  NILAI RATA  PILIHAN LULUS\n",
      "0              0.4             0.25           0.15        0.15            1.0\n",
      "   JURUSAN SEKOLAH  PILIHAN PERTAMA  PILIHAN KEDUA  NILAI RATA  PILIHAN LULUS\n",
      "0              0.4              0.2            0.2         0.0            0.0\n"
     ]
    }
   ],
   "source": [
    "# Menggunakan .at untuk assignment tunggal\n",
    "S_pilihan1.at[0, \"JURUSAN SEKOLAH\"] = prob(\"JURUSAN SEKOLAH\", 'PIL1')\n",
    "S_pilihan1.at[0, \"PILIHAN PERTAMA\"] = prob(\"PILIHAN PERTAMA\", 'PIL1')\n",
    "S_pilihan1.at[0, \"PILIHAN KEDUA\"] = prob(\"PILIHAN KEDUA\", 'PIL1')\n",
    "S_pilihan1.at[0, \"NILAI RATA\"] = prob(\"NILAI RATA\", 'PIL1')\n",
    "S_pilihan1.at[0, \"PILIHAN LULUS\"] = prob(\"PILIHAN LULUS\", 'PIL1')\n",
    "\n",
    "S_pilihan2.at[0, \"JURUSAN SEKOLAH\"] = prob(\"JURUSAN SEKOLAH\", 'PIL2')\n",
    "S_pilihan2.at[0, \"PILIHAN PERTAMA\"] = prob(\"PILIHAN PERTAMA\", 'PIL2')\n",
    "S_pilihan2.at[0, \"PILIHAN KEDUA\"] = prob(\"PILIHAN KEDUA\", 'PIL2')\n",
    "S_pilihan2.at[0, \"NILAI RATA\"] = prob(\"NILAI RATA\", 'PIL2')\n",
    "S_pilihan2.at[0, \"PILIHAN LULUS\"] = prob(\"PILIHAN LULUS\", 'PIL2')\n",
    "\n",
    "print(S_pilihan1)\n",
    "print(S_pilihan2)\n"
   ]
  },
  {
   "cell_type": "code",
   "execution_count": 22,
   "metadata": {},
   "outputs": [
    {
     "name": "stdout",
     "output_type": "stream",
     "text": [
      "Probabilitas Diterima di Pilihan 1\n",
      "0.00225\n",
      "Probabilitas Diterima di Pilihan 2\n",
      "0.0\n",
      "\n",
      "Probabilitas\n",
      "P(X|Diterima di Pilihan 1)\t=  0.0018\n",
      "P(X|Diterima di Pilihan 2)\t=  0.0\n"
     ]
    }
   ],
   "source": [
    "print(\"Probabilitas Diterima di Pilihan 1\")\n",
    "print(S_pilihan1.prod().prod())\n",
    "print(\"Probabilitas Diterima di Pilihan 2\")\n",
    "print(S_pilihan2.prod().prod())\n",
    "print()\n",
    "print(\"Probabilitas\")\n",
    "print(\"P(X|Diterima di Pilihan 1)\\t= \",S_pilihan1.prod().prod()*countPilihan1/len(data))\n",
    "print(\"P(X|Diterima di Pilihan 2)\\t= \",S_pilihan2.prod().prod()*countPilihan2/len(data))\n"
   ]
  },
  {
   "cell_type": "markdown",
   "metadata": {},
   "source": [
    "### **Setelah didapatkan Hasil Uji coba Sampel Selanjutnya Melakukan Perhitungan Bayes Terhadap Keseluruhan Data**"
   ]
  },
  {
   "cell_type": "markdown",
   "metadata": {},
   "source": [
    "Mendapatkan keseluruhan hasil perhitungan peluang keberhasilan semua siswa terhadap dataset yang nantinya akan digunakan untuk melakukan uji normalisasi data"
   ]
  },
  {
   "cell_type": "code",
   "execution_count": 23,
   "metadata": {},
   "outputs": [
    {
     "name": "stdout",
     "output_type": "stream",
     "text": [
      "   JURUSAN SEKOLAH       PILIHAN PERTAMA         PILIHAN KEDUA  NILAI RATA  \\\n",
      "0              IPA      Sistem Informasi     Ilmu Pemerintahan       51.94   \n",
      "1              IPA      Sistem Informasi       Ilmu Komunikasi       50.07   \n",
      "2              TKJ      Sistem Informasi    Teknik Informatika       52.50   \n",
      "3              IPA      Bahasa Indonesia    Teknik Informatika       51.94   \n",
      "4              IPA    Teknik Informatika            Peternakan       46.11   \n",
      "5              IPA    Teknik Informatika            Peternakan       45.00   \n",
      "6              IPS     Ilmu Pemerintahan      Sistem Informasi       42.78   \n",
      "7        KESEHATAN                  PPKn  Kesehatan Masyarakat       50.28   \n",
      "8        KESEHATAN                  PPKn    Teknik Informatika       53.06   \n",
      "9        KESEHATAN                  PPKn    Teknik Informatika       51.06   \n",
      "10       KESEHATAN  Kesehatan Masyarakat            Peternakan       47.22   \n",
      "11       KESEHATAN      Bahasa Indonesia         Ekonomi Islam       48.06   \n",
      "12       KESEHATAN    Teknik Informatika     Ilmu Pemerintahan       51.94   \n",
      "13          BAHASA     Ilmu Pemerintahan            Matematika       44.72   \n",
      "14             IPA      Bahasa Indonesia      Sistem Informasi       50.88   \n",
      "15             IPS                  PPKn     Ilmu Pemerintahan       43.61   \n",
      "16             IPA            Agribisnis         Ekonomi Islam       51.33   \n",
      "17             IPA            Matematika      Sistem Informasi       50.11   \n",
      "18       KESEHATAN  Kesehatan Masyarakat      Sistem Informasi       52.22   \n",
      "19             IPS      Sistem Informasi     Ilmu Pemerintahan       50.28   \n",
      "20             IPS    Teknik Informatika       Ilmu Komunikasi       51.00   \n",
      "21             IPA                  PPKn  Kesehatan Masyarakat       51.39   \n",
      "22             IPA                  PPKn  Kesehatan Masyarakat       53.33   \n",
      "23             TKJ      Sistem Informasi  Kesehatan Masyarakat       50.83   \n",
      "24             IPS      Sistem Informasi            Matematika       50.34   \n",
      "\n",
      "   KETERANGAN LULUS PILIHAN LULUS         JURUSAN LULUS  P(Berhasil)  \n",
      "0             LULUS          PIL1      Sistem Informasi      0.00180  \n",
      "1             LULUS          PIL1      Sistem Informasi      0.00040  \n",
      "2             LULUS          PIL1      Sistem Informasi      0.00010  \n",
      "3             LULUS          PIL1      Bahasa Indonesia      0.00096  \n",
      "4             LULUS          PIL2            Peternakan      0.00000  \n",
      "5             LULUS          PIL2            Peternakan      0.00000  \n",
      "6             LULUS          PIL1     Ilmu Pemerintahan      0.00016  \n",
      "7             LULUS          PIL1                  PPKn      0.00090  \n",
      "8             LULUS          PIL1                  PPKn      0.00060  \n",
      "9             LULUS          PIL1                  PPKn      0.00060  \n",
      "10            LULUS          PIL1  Kesehatan Masyarakat      0.00006  \n",
      "11            LULUS          PIL2         Ekonomi Islam      0.00000  \n",
      "12            LULUS          PIL1    Teknik Informatika      0.00054  \n",
      "13            LULUS          PIL1     Ilmu Pemerintahan      0.00002  \n",
      "14            LULUS          PIL1      Bahasa Indonesia      0.00032  \n",
      "15            LULUS          PIL2     Ilmu Pemerintahan      0.00000  \n",
      "16            LULUS          PIL1            Agribisnis      0.00004  \n",
      "17            LULUS          PIL1            Matematika      0.00016  \n",
      "18            LULUS          PIL1  Kesehatan Masyarakat      0.00024  \n",
      "19            LULUS          PIL1      Sistem Informasi      0.00060  \n",
      "20            LULUS          PIL1    Teknik Informatika      0.00008  \n",
      "21            LULUS          PIL1                  PPKn      0.00060  \n",
      "22            LULUS          PIL1                  PPKn      0.00060  \n",
      "23            LULUS          PIL2  Kesehatan Masyarakat      0.00000  \n",
      "24            LULUS          PIL1      Sistem Informasi      0.00020  \n"
     ]
    }
   ],
   "source": [
    "# Inisialisasi kolom dengan tipe data float\n",
    "data['P(Berhasil)'] = 0.0\n",
    "\n",
    "# Loop untuk mengisi kolom 'P(Berhasil)'\n",
    "for i in range(len(data)):\n",
    "    data.loc[i, 'P(Berhasil)'] = (\n",
    "        probb(data, \"JURUSAN SEKOLAH\", 'PIL1', i) *\n",
    "        probb(data, \"PILIHAN PERTAMA\", 'PIL1', i) *\n",
    "        probb(data, \"PILIHAN KEDUA\", 'PIL1', i) *\n",
    "        probb(data, \"NILAI RATA\", 'PIL1', i) *\n",
    "        probb(data, \"PILIHAN LULUS\", 'PIL1', i) *\n",
    "        (countPilihan1 / len(data))\n",
    "    )\n",
    "\n",
    "# Cetak hasil\n",
    "print(data)\n"
   ]
  },
  {
   "cell_type": "markdown",
   "metadata": {},
   "source": [
    "### **Melakukan Uji Normalisasi Terhadap Data Bayes**"
   ]
  },
  {
   "cell_type": "markdown",
   "metadata": {},
   "source": [
    "Uji normalitas dalam konteks data Bayes adalah proses statistik untuk memeriksa apakah data yang digunakan dalam analisis Bayes mengikuti distribusi normal atau tidak. Uji ini penting untuk memastikan bahwa asumsi distribusi normal terpenuhi sebelum menerapkan metode Bayes pada data tersebut. \n",
    "\n",
    "Kode berikut melakukan beberapa perhitungan terkait normalisasi data dan menghitung beberapa metrik statistik untuk data yang diberikan"
   ]
  },
  {
   "cell_type": "markdown",
   "metadata": {},
   "source": [
    "`normalisai = pd.DataFrame({'Contoh Data':data['P(Berhasil)']})` : Kode ini membuat sebuah DataFrame baru dengan nama \"normalisasi\". DataFrame ini memiliki satu kolom bernama \"Contoh Data\" yang berisi data dari kolom \"P(Berhasil)\" dari DataFrame \"data\".\n",
    "\n",
    "`normalisai['Rank'] = normalisai['Contoh Data'].rank(method='min', ascending=True).astype(int)` : Kode ini menghitung peringkat (rank) dari data dalam kolom \"Contoh Data\" menggunakan metode 'min' dan menyimpan hasilnya dalam kolom baru bernama \"Rank\" dalam DataFrame \"normalisasi\".\n",
    "\n",
    "`normalisai['Indeks'] = (normalisai['Rank'] - 3/8) / (len(normalisai) + 1/4)` : Kode ini menghitung indeks (index) berdasarkan peringkat dalam kolom \"Rank\" dan menyimpan hasilnya dalam kolom baru bernama \"Indeks\" dalam DataFrame \"normalisai\".\n",
    "\n",
    "`normalisai['Formula Z-Score'] = norm.ppf(normalisai['Indeks'], 0, 1)` : Kode ini menghitung formula Z-Score (nilai Z) berdasarkan indeks dalam kolom \"Indeks\" menggunakan fungsi norm.ppf() dari modul scipy.stats.norm. Hasilnya disimpan dalam kolom baru bernama \"Formula Z-Score\" dalam DataFrame \"normalisai\".\n",
    "\n",
    "`normalisai['PDF'] = norm.pdf(normalisai['Formula Z-Score'], loc=0, scale=1)` : Kode ini menghitung fungsi densitas probabilitas (PDF) berdasarkan formula Z-Score dalam kolom \"Formula Z-Score\" menggunakan fungsi norm.pdf() dari modul scipy.stats.norm. Hasilnya disimpan dalam kolom baru bernama \"PDF\" dalam DataFrame \"normalisai\".\n",
    "\n",
    "`corr = normalisai['Contoh Data'].corr(normalisai['Formula Z-Score'])` : Kode ini menghitung korelasi antara kolom \"Contoh Data\" dan \"Formula Z-Score\" dalam DataFrame \"normalisai\" menggunakan metode korelasi Pearson. Hasilnya disimpan dalam variabel corr."
   ]
  },
  {
   "cell_type": "code",
   "execution_count": 24,
   "metadata": {},
   "outputs": [
    {
     "name": "stdout",
     "output_type": "stream",
     "text": [
      "    Contoh Data  Rank    Indeks  Formula Z-Score       PDF\n",
      "0       0.00180    25  0.978218         2.018258  0.052046\n",
      "1       0.00040    16  0.621782         0.310165  0.380207\n",
      "2       0.00010    10  0.384158        -0.294577  0.382003\n",
      "3       0.00096    24  0.938614         1.543241  0.121270\n",
      "4       0.00000     1  0.027723        -1.915368  0.063720\n",
      "5       0.00000     1  0.027723        -1.915368  0.063720\n",
      "6       0.00016    11  0.423762        -0.192278  0.391635\n",
      "7       0.00090    23  0.899010         1.275930  0.176764\n",
      "8       0.00060    18  0.700990         0.527250  0.347172\n",
      "9       0.00060    18  0.700990         0.527250  0.347172\n",
      "10      0.00006     8  0.304950        -0.510215  0.350254\n",
      "11      0.00000     1  0.027723        -1.915368  0.063720\n",
      "12      0.00054    17  0.661386         0.416249  0.365836\n",
      "13      0.00002     6  0.225743        -0.752941  0.300473\n",
      "14      0.00032    15  0.582178         0.207469  0.390448\n",
      "15      0.00000     1  0.027723        -1.915368  0.063720\n",
      "16      0.00004     7  0.265347        -0.626948  0.327761\n",
      "17      0.00016    11  0.423762        -0.192278  0.391635\n",
      "18      0.00024    14  0.542574         0.106921  0.396668\n",
      "19      0.00060    18  0.700990         0.527250  0.347172\n",
      "20      0.00008     9  0.344554        -0.400065  0.368261\n",
      "21      0.00060    18  0.700990         0.527250  0.347172\n",
      "22      0.00060    18  0.700990         0.527250  0.347172\n",
      "23      0.00000     1  0.027723        -1.915368  0.063720\n",
      "24      0.00020    13  0.502970         0.007445  0.398931\n",
      "Correlation =  0.8566076288363728\n",
      "Hasil : Data Normal\n"
     ]
    }
   ],
   "source": [
    "normalisai = pd.DataFrame({\n",
    "    'Contoh Data':data['P(Berhasil)']\n",
    "})\n",
    "# menghitung rank\n",
    "normalisai['Rank'] = normalisai['Contoh Data'].rank(method='min', ascending=True).astype(int)\n",
    "# menghitung indeks\n",
    "normalisai['Indeks'] = (normalisai['Rank'] - 3/10) / (len(normalisai) + 1/4)\n",
    "# menghitung formula z-score\n",
    "normalisai['Formula Z-Score'] = norm.ppf(normalisai['Indeks'], 0, 1)\n",
    "# menghitung PDF\n",
    "normalisai['PDF'] = norm.pdf(normalisai['Formula Z-Score'], loc=0, scale=1)\n",
    "\n",
    "corr = normalisai['Contoh Data'].corr(normalisai['Formula Z-Score'])\n",
    "print(normalisai)\n",
    "\n",
    "print(\"Correlation = \", corr)\n",
    "if corr > 0.05:\n",
    "    print(\"Hasil : Data Normal\")\n",
    "else :\n",
    "    print(\"Hasil : Data Tidak Normal\")\n"
   ]
  },
  {
   "cell_type": "code",
   "execution_count": 25,
   "metadata": {},
   "outputs": [
    {
     "data": {
      "image/png": "[encoded data removed]",
      "text/plain": [
       "<Figure size 640x480 with 1 Axes>"
      ]
     },
     "metadata": {},
     "output_type": "display_data"
    }
   ],
   "source": [
    "plt.scatter(normalisai['Formula Z-Score'],normalisai['PDF'])\n",
    "plt.show()"
   ]
  },
  {
   "cell_type": "markdown",
   "metadata": {},
   "source": [
    "### **Hasil Aplikasi Metode Bayes**"
   ]
  },
  {
   "cell_type": "markdown",
   "metadata": {},
   "source": [
    "Setelah sebelumnya kita telah melakukan perhitungan bayes untuk menghitung peluang diterima pda pilihan 1 atau diterima pada pilihan 2 pada suatu perguruan tinggi, selanjutnya kita membuat program untuk menentukan seorang siswa lulus atau tidak dengan menggunakan data hasil perhitungan bayes setiap kategori penilaian sebelumnya yang telah dilakukan pada proses perhitungan manual pada presentasi excel sebelumnya."
   ]
  },
  {
   "cell_type": "code",
   "execution_count": 26,
   "metadata": {},
   "outputs": [],
   "source": [
    "JURUSAN_SEKOLAH = ['IPA', 'TKJ', 'IPS', 'KESEHATAN', 'BAHASA' ]\n",
    "acc_JURUSAN = [0.4, 0.05, 0.2, 0.3, 0.05]\n",
    "rej_JURUSAN = [0.4, 0.2, 0.2, 0.2, 0]\n",
    "\n",
    "PILIHAN_PERTAMA = [\"Sistem Informasi\", \"Bahasa Indonesia\", \"Teknik Informatika\", \"Ilmu Pemerintahan\", 'PPKn', \"Kesehatan Masyarakat\", 'Agribisnis', 'Matematika', 'Peternakan']\n",
    "acc_PERTAMA = [0.231, 0.115, 0.154, 0.077, 0.231, 0.077, 0.038, 0.038, 0.038]\n",
    "rej_PERTAMA = [0.1538, 0, 0.1923, 0.1538, 0, 0.1538, 0, 0.0769, 0.1154]\n",
    "\n",
    "PILIHAN_KEDUA = [\"Ilmu Pemerintahan\", \"Ilmu Komunikasi\", \"Teknik Informatika\", 'Peternakan', \"Sistem Informasi\", \"Kesehatan Masyarakat\", \"Ekonomi Islam\", 'Matematika']\n",
    "acc_KEDUA =[0.08, 0, 0.16, 0, 0.24, 0.08, 0, 0.04]\n",
    "rej_KEDUA = [0.16, 0.08, 0.16, 0.12, 0.16, 0.16, 0.08, 0.08]\n",
    "\n",
    "NILAI_RATA = [19.44,  42.78, 43.61, 44.72, 45, 46.11, 47.22, 48.06, 50.07, 50.11, 50.28, 50.34, 50.83, 50.88, 51, 51.06, 51.33, 51.39, 51.94, 52.22, 52.5, 53.06, 53.33]\n",
    "acc_RERATA = [0, 0.116,0.129,0.005,0.076,0.079,0.032,0.142,3.555,0.136,3.570,0.091,0.046,0.416,1.207,0.418,0.607,0.280,2.836,0.213,0.035,0.434,0.006]\n",
    "rej_RERATA = [0.026, 0,0.119,0,0.081,0.083,0,1.279,0,0,0,0,0.091,0,0,0,0,0,0,0,0,0,0]\n",
    "\n",
    "PILIHAN_LULUS = ['PIL1', 'PIL2']\n",
    "acc_LULUS = [0.8,0.2]\n",
    "rej_LULUS = [0.2, 0.8]"
   ]
  },
  {
   "cell_type": "markdown",
   "metadata": {},
   "source": [
    "Misalkan disini kita menyalin data siswa pada data sebelumnya tanpa mengetahui hasilnya ia diterima pada pilihan 1 atau pilihan 2, lalu kita akan menentukan diterima pada pilihan 1 atau tidaknya siswa tersebut berdasarkan nilai nilai perkategori yang telah kita dapatkan sebelumnya"
   ]
  },
  {
   "cell_type": "markdown",
   "metadata": {},
   "source": [
    "Disini kita membuat function untuk melakukan perhitungan tersebut yang diberi nama sistemCount karena proses penetuan lulus pada pilihan 1 atau pada pilihan 2 dari siswa berdasarkan perhitungan program, bukan berdasarkan penilaian subjektif"
   ]
  },
  {
   "cell_type": "markdown",
   "metadata": {},
   "source": [
    "Fungsi sistemCount bisa dibilang mengimplementasikan logika untuk menentukan pilihan kelulusan siswa berdasarkan atribut-atribut yang ada dan probabilitas yang sudah dihitung sebelumnya."
   ]
  },
  {
   "cell_type": "code",
   "execution_count": 27,
   "metadata": {},
   "outputs": [],
   "source": [
    "def sistemCount(dataUji):\n",
    "    result = dataUji.copy()\n",
    "    for i in range(len(result)):\n",
    "        pilihan1 = 0\n",
    "        pilihan2 = 0\n",
    "        for j in range(len(JURUSAN_SEKOLAH)):\n",
    "            if result.loc[i, \"JURUSAN SEKOLAH\"] == JURUSAN_SEKOLAH[j]:\n",
    "                pilihan1 = acc_JURUSAN[j]\n",
    "                pilihan2 = rej_JURUSAN[j]\n",
    "        for j in range(len(PILIHAN_PERTAMA)):\n",
    "            if result.loc[i, \"PILIHAN PERTAMA\"] == PILIHAN_PERTAMA[j]:\n",
    "                pilihan1 *= acc_PERTAMA[j]\n",
    "                pilihan2 *= rej_PERTAMA[j]\n",
    "        for j in range(len(PILIHAN_KEDUA)):\n",
    "            if result.loc[i, \"PILIHAN KEDUA\"] == PILIHAN_KEDUA[j]:\n",
    "                pilihan1 *= acc_KEDUA[j]\n",
    "                pilihan2 *= rej_KEDUA[j]\n",
    "        for j in range(len(NILAI_RATA)):\n",
    "            if result.loc[i, \"NILAI RATA\"] == NILAI_RATA[j]:\n",
    "                pilihan1 *= acc_RERATA[j]\n",
    "                pilihan2 *= rej_RERATA[j]\n",
    "        for j in range(len(PILIHAN_LULUS)):\n",
    "            if result.loc[i, \"PILIHAN LULUS\"] == PILIHAN_LULUS[j]:\n",
    "                pilihan1 *= acc_LULUS[j]\n",
    "                pilihan2 *= rej_LULUS[j]\n",
    "        if pilihan1 > pilihan2:\n",
    "            result.loc[i, \"PILIHAN LULUS\"] = \"PIL1\"\n",
    "        else:\n",
    "            result.loc[i, \"PILIHAN LULUS\"] = \"PIL2\"\n",
    "    return result"
   ]
  },
  {
   "cell_type": "markdown",
   "metadata": {},
   "source": [
    "Bisa terlihat Bahwa pada tabel hasil perhitungan data2 atau perhitungan program memiliki hasil yang sama dengan hasil dari data awal, ini menandakan bahwa program tersebut berjalan dengan semestinya berdasarkan nilai kategori penilaian data pertama"
   ]
  },
  {
   "cell_type": "code",
   "execution_count": 28,
   "metadata": {},
   "outputs": [
    {
     "name": "stdout",
     "output_type": "stream",
     "text": [
      "   JURUSAN SEKOLAH       PILIHAN PERTAMA         PILIHAN KEDUA  NILAI RATA  \\\n",
      "0              IPA      Sistem Informasi     Ilmu Pemerintahan       51.94   \n",
      "1              IPA      Sistem Informasi       Ilmu Komunikasi       50.07   \n",
      "2              TKJ      Sistem Informasi    Teknik Informatika       52.50   \n",
      "3              IPA      Bahasa Indonesia    Teknik Informatika       51.94   \n",
      "4              IPA    Teknik Informatika            Peternakan       46.11   \n",
      "5              IPA    Teknik Informatika            Peternakan       45.00   \n",
      "6              IPS     Ilmu Pemerintahan      Sistem Informasi       42.78   \n",
      "7        KESEHATAN                  PPKn  Kesehatan Masyarakat       50.28   \n",
      "8        KESEHATAN                  PPKn    Teknik Informatika       53.06   \n",
      "9        KESEHATAN                  PPKn    Teknik Informatika       51.06   \n",
      "10       KESEHATAN  Kesehatan Masyarakat            Peternakan       47.22   \n",
      "11       KESEHATAN      Bahasa Indonesia         Ekonomi Islam       48.06   \n",
      "12       KESEHATAN    Teknik Informatika     Ilmu Pemerintahan       51.94   \n",
      "13          BAHASA     Ilmu Pemerintahan            Matematika       44.72   \n",
      "14             IPA      Bahasa Indonesia      Sistem Informasi       50.88   \n",
      "15             IPS                  PPKn     Ilmu Pemerintahan       43.61   \n",
      "16             IPA            Agribisnis         Ekonomi Islam       51.33   \n",
      "17             IPA            Matematika      Sistem Informasi       50.11   \n",
      "18       KESEHATAN  Kesehatan Masyarakat      Sistem Informasi       52.22   \n",
      "19             IPS      Sistem Informasi     Ilmu Pemerintahan       50.28   \n",
      "20             IPS    Teknik Informatika       Ilmu Komunikasi       51.00   \n",
      "21             IPA                  PPKn  Kesehatan Masyarakat       51.39   \n",
      "22             IPA                  PPKn  Kesehatan Masyarakat       53.33   \n",
      "23             TKJ      Sistem Informasi  Kesehatan Masyarakat       50.83   \n",
      "24             IPS      Sistem Informasi            Matematika       50.34   \n",
      "\n",
      "   KETERANGAN LULUS PILIHAN LULUS         JURUSAN LULUS  P(Berhasil)  \n",
      "0             LULUS          PIL1      Sistem Informasi      0.00180  \n",
      "1             LULUS          PIL1      Sistem Informasi      0.00040  \n",
      "2             LULUS          PIL1      Sistem Informasi      0.00010  \n",
      "3             LULUS          PIL1      Bahasa Indonesia      0.00096  \n",
      "4             LULUS          PIL2            Peternakan      0.00000  \n",
      "5             LULUS          PIL2            Peternakan      0.00000  \n",
      "6             LULUS          PIL1     Ilmu Pemerintahan      0.00016  \n",
      "7             LULUS          PIL1                  PPKn      0.00090  \n",
      "8             LULUS          PIL1                  PPKn      0.00060  \n",
      "9             LULUS          PIL1                  PPKn      0.00060  \n",
      "10            LULUS          PIL1  Kesehatan Masyarakat      0.00006  \n",
      "11            LULUS          PIL2         Ekonomi Islam      0.00000  \n",
      "12            LULUS          PIL1    Teknik Informatika      0.00054  \n",
      "13            LULUS          PIL1     Ilmu Pemerintahan      0.00002  \n",
      "14            LULUS          PIL1      Bahasa Indonesia      0.00032  \n",
      "15            LULUS          PIL2     Ilmu Pemerintahan      0.00000  \n",
      "16            LULUS          PIL1            Agribisnis      0.00004  \n",
      "17            LULUS          PIL1            Matematika      0.00016  \n",
      "18            LULUS          PIL1  Kesehatan Masyarakat      0.00024  \n",
      "19            LULUS          PIL1      Sistem Informasi      0.00060  \n",
      "20            LULUS          PIL1    Teknik Informatika      0.00008  \n",
      "21            LULUS          PIL1                  PPKn      0.00060  \n",
      "22            LULUS          PIL1                  PPKn      0.00060  \n",
      "23            LULUS          PIL2  Kesehatan Masyarakat      0.00000  \n",
      "24            LULUS          PIL1      Sistem Informasi      0.00020  \n"
     ]
    }
   ],
   "source": [
    "data['P(Berhasil)'] = 0.0  # Menginisialisasi kolom dengan tipe data float\n",
    "for i in range(len(data)):\n",
    "    data.at[i, 'P(Berhasil)'] = (\n",
    "        probb(data, \"JURUSAN SEKOLAH\", 'PIL1', i) *\n",
    "        probb(data, \"PILIHAN PERTAMA\", 'PIL1', i) *\n",
    "        probb(data, \"PILIHAN KEDUA\", 'PIL1', i) *\n",
    "        probb(data, \"NILAI RATA\", 'PIL1', i) *\n",
    "        probb(data, \"PILIHAN LULUS\", 'PIL1', i) *\n",
    "        (countPilihan1 / len(data))\n",
    "    )\n",
    "\n",
    "print(data)"
   ]
  },
  {
   "cell_type": "markdown",
   "metadata": {},
   "source": [
    "### **Hipotesis**"
   ]
  },
  {
   "cell_type": "markdown",
   "metadata": {},
   "source": [
    "H0 : Apakah variable Jurusan Sekolah dan Nilai Rata-Rata memiliki pengaruh terhadap tingkat keberhasilan seseorang diterima dalam Perguruan Tinggi\n",
    "\n",
    "H1 : Apakah variable Jurusan Sekolah dan Nilai Rata-Rata tidak memiliki pengaruh terhadap tingkat keberhasilan seseorang diterima dalam Perguruan Tinggi"
   ]
  },
  {
   "cell_type": "markdown",
   "metadata": {},
   "source": [
    "### **Pengujian Metode**"
   ]
  },
  {
   "cell_type": "markdown",
   "metadata": {},
   "source": [
    "Untuk pengujian metode disini kita tidak menggunakan data diawal, namun menggunakan data baru untuk menguji keakuratan metode yang kita buat dan tetap menggunakan penilaian kategori pada data pertama"
   ]
  },
  {
   "cell_type": "markdown",
   "metadata": {},
   "source": [
    "Pada hasil perhitungan program kita beri nama data_sistem, kemudian kita juga menampilkan total jumlah siswa yang lulus pada pilihan 1 dan lulus pada pilihan 2 untuk melihat adakah perbedaan hasil perhitungan data subjektif dan data sistem "
   ]
  },
  {
   "cell_type": "code",
   "execution_count": 29,
   "metadata": {},
   "outputs": [
    {
     "name": "stdout",
     "output_type": "stream",
     "text": [
      "Data Hasil Perhitungan Subjektif :\n",
      "Diterima di Pilihan Pertama :  98\n",
      "Diterima di Pilihan Kedua :  27\n",
      "    JURUSAN SEKOLAH     PILIHAN PERTAMA       PILIHAN KEDUA  NILAI RATA  \\\n",
      "0               IPA    Sistem Informasi   Ilmu Pemerintahan       51.94   \n",
      "1               IPA    Sistem Informasi     Ilmu Komunikasi       50.07   \n",
      "2               TKJ    Sistem Informasi  Teknik Informatika       52.50   \n",
      "3               IPA    Bahasa Indonesia  Teknik Informatika       51.94   \n",
      "4               IPA  Teknik Informatika          Peternakan       46.11   \n",
      "..              ...                 ...                 ...         ...   \n",
      "120             IPS    Sistem Informasi          Matematika       50.34   \n",
      "121          BAHASA   Ilmu Pemerintahan          Matematika       44.72   \n",
      "122             IPA    Bahasa Indonesia    Sistem Informasi       50.88   \n",
      "123             IPS                PPKn   Ilmu Pemerintahan       43.61   \n",
      "124             IPA          Agribisnis       Ekonomi Islam       51.33   \n",
      "\n",
      "    KETERANGAN LULUS PILIHAN LULUS      JURUSAN LULUS  \n",
      "0              LULUS          PIL1   Sistem Informasi  \n",
      "1              LULUS          PIL1   Sistem Informasi  \n",
      "2              LULUS          PIL1   Sistem Informasi  \n",
      "3              LULUS          PIL1   Bahasa Indonesia  \n",
      "4              LULUS          PIL2         Peternakan  \n",
      "..               ...           ...                ...  \n",
      "120            LULUS          PIL1   Sistem Informasi  \n",
      "121            LULUS          PIL1  Ilmu Pemerintahan  \n",
      "122            LULUS          PIL1   Bahasa Indonesia  \n",
      "123            LULUS          PIL2  Ilmu Pemerintahan  \n",
      "124            LULUS          PIL1         Agribisnis  \n",
      "\n",
      "[125 rows x 7 columns] \n",
      "\n",
      "Data Hasil Perhitungan Sistem :\n",
      "Diterima di Pilihan Pertama :  91\n",
      "Diterima di Pilihan Kedua :  34\n",
      "    JURUSAN SEKOLAH     PILIHAN PERTAMA       PILIHAN KEDUA  NILAI RATA  \\\n",
      "0               IPA    Sistem Informasi   Ilmu Pemerintahan       51.94   \n",
      "1               IPA    Sistem Informasi     Ilmu Komunikasi       50.07   \n",
      "2               TKJ    Sistem Informasi  Teknik Informatika       52.50   \n",
      "3               IPA    Bahasa Indonesia  Teknik Informatika       51.94   \n",
      "4               IPA  Teknik Informatika          Peternakan       46.11   \n",
      "..              ...                 ...                 ...         ...   \n",
      "120             IPS    Sistem Informasi          Matematika       50.34   \n",
      "121          BAHASA   Ilmu Pemerintahan          Matematika       44.72   \n",
      "122             IPA    Bahasa Indonesia    Sistem Informasi       50.88   \n",
      "123             IPS                PPKn   Ilmu Pemerintahan       43.61   \n",
      "124             IPA          Agribisnis       Ekonomi Islam       51.33   \n",
      "\n",
      "    KETERANGAN LULUS PILIHAN LULUS      JURUSAN LULUS  \n",
      "0              LULUS          PIL1   Sistem Informasi  \n",
      "1              LULUS          PIL2   Sistem Informasi  \n",
      "2              LULUS          PIL1   Sistem Informasi  \n",
      "3              LULUS          PIL1   Bahasa Indonesia  \n",
      "4              LULUS          PIL2         Peternakan  \n",
      "..               ...           ...                ...  \n",
      "120            LULUS          PIL1   Sistem Informasi  \n",
      "121            LULUS          PIL1  Ilmu Pemerintahan  \n",
      "122            LULUS          PIL1   Bahasa Indonesia  \n",
      "123            LULUS          PIL1  Ilmu Pemerintahan  \n",
      "124            LULUS          PIL2         Agribisnis  \n",
      "\n",
      "[125 rows x 7 columns]\n"
     ]
    }
   ],
   "source": [
    "# Memuat data dari file Excel\n",
    "data_subjektif = pd.read_excel('Sample.xlsx')\n",
    "\n",
    "# Menghitung data sistem\n",
    "data_Sistem = sistemCount(data_subjektif)\n",
    "\n",
    "# Menghitung jumlah diterima di pilihan pertama dan kedua untuk data subjektif\n",
    "a = data_subjektif[\"PILIHAN LULUS\"].value_counts().get(\"PIL1\", 0)\n",
    "b = data_subjektif[\"PILIHAN LULUS\"].value_counts().get(\"PIL2\", 0)\n",
    "\n",
    "# Menampilkan hasil perhitungan subjektif\n",
    "print(\"Data Hasil Perhitungan Subjektif :\")\n",
    "print(\"Diterima di Pilihan Pertama : \", a)\n",
    "print(\"Diterima di Pilihan Kedua : \", b)\n",
    "print(data_subjektif, \"\\n\")\n",
    "\n",
    "# Menghitung jumlah diterima di pilihan pertama dan kedua untuk data sistem\n",
    "a = data_Sistem[\"PILIHAN LULUS\"].value_counts().get(\"PIL1\", 0)\n",
    "b = data_Sistem[\"PILIHAN LULUS\"].value_counts().get(\"PIL2\", 0)\n",
    "\n",
    "# Menampilkan hasil perhitungan sistem\n",
    "print(\"Data Hasil Perhitungan Sistem :\")\n",
    "print(\"Diterima di Pilihan Pertama : \", a)\n",
    "print(\"Diterima di Pilihan Kedua : \", b)\n",
    "print(data_Sistem)"
   ]
  },
  {
   "cell_type": "markdown",
   "metadata": {},
   "source": [
    "Bisa dilihat bahwa jumlah total siswa diterima pada pilihan 1 dan diterima pada pilihan 2 pada setiap data uji berbeda, ini menandakan bahwa terdapat perbedaan pada hasil perhitungan subjektif dan sistem"
   ]
  },
  {
   "cell_type": "markdown",
   "metadata": {},
   "source": [
    "Selanjutnya kita akan menghitung persentase keakuratan perhitungan sistem dengan membandingkan satu persatu setiap elemen data uji berapa banyak dari total hasil yang sesuai dari data sistem dengan data subjektif"
   ]
  },
  {
   "cell_type": "code",
   "execution_count": 30,
   "metadata": {},
   "outputs": [
    {
     "name": "stdout",
     "output_type": "stream",
     "text": [
      "Jumlah Data Yang Sesuai 94  dari Total  125  Data\n",
      "Akurasi Metode :  75.2 %\n"
     ]
    }
   ],
   "source": [
    "def akurasi(data1, data2):\n",
    "    count=0\n",
    "    for i in range(len(data1)):\n",
    "        if data1['PILIHAN LULUS'][i] == data2[\"PILIHAN LULUS\"][i]:\n",
    "            count+=1\n",
    "    print(\"Jumlah Data Yang Sesuai\",count,\" dari Total \",len(data1),\" Data\")\n",
    "    return count/len(data1)*100\n",
    "akurasiBayes = akurasi(data_subjektif,data_Sistem)\n",
    "print(\"Akurasi Metode : \",akurasiBayes,\"%\")"
   ]
  },
  {
   "cell_type": "markdown",
   "metadata": {},
   "source": [
    "Disini kita mendapatkan keakuratan hasil perhitungan sistem yaitu 75.2% yang menandakan bahwa hasil dari perhitungan sistem masih belum dapat keakuratan yang persis seperti data hasil penilaian subjektif"
   ]
  },
  {
   "cell_type": "markdown",
   "metadata": {},
   "source": []
  }
 ],
 "metadata": {
  "language_info": {
   "name": "python"
  }
 },
 "nbformat": 4,
 "nbformat_minor": 2
}
